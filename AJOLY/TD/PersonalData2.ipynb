{
  "nbformat": 4,
  "nbformat_minor": 0,
  "metadata": {
    "kernelspec": {
      "display_name": "Python 3",
      "language": "python",
      "name": "python3"
    },
    "language_info": {
      "codemirror_mode": {
        "name": "ipython",
        "version": 3
      },
      "file_extension": ".py",
      "mimetype": "text/x-python",
      "name": "python",
      "nbconvert_exporter": "python",
      "pygments_lexer": "ipython3",
      "version": "3.6.5"
    },
    "colab": {
      "name": "PersonalData.ipynb",
      "provenance": [],
      "collapsed_sections": [],
      "include_colab_link": true
    }
  },
  "cells": [
    {
      "cell_type": "markdown",
      "metadata": {
        "id": "view-in-github",
        "colab_type": "text"
      },
      "source": [
        "<a href=\"https://colab.research.google.com/github/mordor-ai/M2-traitement-avance-information/blob/main/AJOLY/TD/PersonalData2.ipynb\" target=\"_parent\"><img src=\"https://colab.research.google.com/assets/colab-badge.svg\" alt=\"Open In Colab\"/></a>"
      ]
    },
    {
      "cell_type": "markdown",
      "metadata": {
        "id": "FbBY7rozK5gO"
      },
      "source": [
        "# MIASHS 2019, Apprentissage Statistique: TD sur données personnelles \n",
        "\n",
        "Auteur: *Alexis Joly*"
      ]
    },
    {
      "cell_type": "code",
      "metadata": {
        "id": "xDCZ6eWhM9Ee",
        "outputId": "d2bd6478-6990-4f13-cc95-762d0fa3d60c",
        "colab": {
          "resources": {
            "http://localhost:8080/nbextensions/google.colab/files.js": {
              "data": "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",
              "ok": true,
              "headers": [
                [
                  "content-type",
                  "application/javascript"
                ]
              ],
              "status": 200,
              "status_text": "OK"
            }
          },
          "base_uri": "https://localhost:8080/",
          "height": 82
        }
      },
      "source": [
        "from google.colab import files\n",
        "uploaded = files.upload()"
      ],
      "execution_count": null,
      "outputs": [
        {
          "output_type": "display_data",
          "data": {
            "text/html": [
              "\n",
              "     <input type=\"file\" id=\"files-7205b2bd-781f-4501-8c72-d0a827960565\" name=\"files[]\" multiple disabled\n",
              "        style=\"border:none\" />\n",
              "     <output id=\"result-7205b2bd-781f-4501-8c72-d0a827960565\">\n",
              "      Upload widget is only available when the cell has been executed in the\n",
              "      current browser session. Please rerun this cell to enable.\n",
              "      </output>\n",
              "      <script src=\"/nbextensions/google.colab/files.js\"></script> "
            ],
            "text/plain": [
              "<IPython.core.display.HTML object>"
            ]
          },
          "metadata": {
            "tags": []
          }
        },
        {
          "output_type": "stream",
          "text": [
            "Saving data-2020.csv to data-2020.csv\n"
          ],
          "name": "stdout"
        }
      ]
    },
    {
      "cell_type": "markdown",
      "metadata": {
        "id": "2jpywI3rK5gQ"
      },
      "source": [
        "# Import data"
      ]
    },
    {
      "cell_type": "code",
      "metadata": {
        "id": "os5DQLmxK5gQ",
        "outputId": "b215f5d2-ef43-4ece-8a3b-18c7de2987b2",
        "colab": {
          "base_uri": "https://localhost:8080/",
          "height": 201
        }
      },
      "source": [
        "import numpy as np\n",
        "import pandas as pd\n",
        "import io\n",
        "\n",
        "#input_file=\"your file name\"\n",
        "input_file=io.BytesIO(uploaded['data-2020.csv'])\n",
        "data_frame = pd.read_csv(input_file, delimiter = \",\")\n",
        "\n",
        "N=len(data_frame)\n",
        "d=len(data_frame.columns)\n",
        "print(\"nb of samples N=\",N)\n",
        "print(\"nb of variables d=\",d)\n",
        "print(data_frame.head())\n",
        "\n",
        "\n"
      ],
      "execution_count": null,
      "outputs": [
        {
          "output_type": "stream",
          "text": [
            "nb of samples N= 35\n",
            "nb of variables d= 12\n",
            "   Age  taille  poids  pointure  ...  genre  animal  facebook  maison\n",
            "0   41     179     75        43  ...      0       1         0       1\n",
            "1   42     155     55        36  ...      1       1       121       0\n",
            "2   33     176     66        43  ...      0       1         0       1\n",
            "3   24     185     90        45  ...      0       1       152       0\n",
            "4   39     170     58        41  ...      1       1        90       1\n",
            "\n",
            "[5 rows x 12 columns]\n"
          ],
          "name": "stdout"
        }
      ]
    },
    {
      "cell_type": "markdown",
      "metadata": {
        "id": "_OdpxgCrK5gT"
      },
      "source": [
        "# Split data in train and test data"
      ]
    },
    {
      "cell_type": "code",
      "metadata": {
        "scrolled": true,
        "id": "xCDkZNSUK5gU"
      },
      "source": [
        "import numpy as np\n",
        "from sklearn.model_selection import train_test_split\n",
        "\n",
        "'''\n",
        "X = data_frame.drop(columns=[\"animal\",\"genre\"])\n",
        "y = data_frame[[\"animal\",\"genre\"]]\n",
        "#X = data_frame.drop(['animal'])\n",
        "X_train, X_test, y_train, y_test = train_test_split(X, y, test_size=0.33, random_state=42)\n",
        "'''\n",
        "\n",
        "df_train, df_test = train_test_split(data_frame, test_size=0.25)\n"
      ],
      "execution_count": null,
      "outputs": []
    },
    {
      "cell_type": "markdown",
      "metadata": {
        "id": "2koeg6q4K5gZ"
      },
      "source": [
        "# Linear Regression"
      ]
    },
    {
      "cell_type": "code",
      "metadata": {
        "scrolled": false,
        "id": "mCqVWANEK5gb",
        "outputId": "d79607f1-a6c3-40cc-84b2-2194f235eaf6",
        "colab": {
          "base_uri": "https://localhost:8080/",
          "height": 187
        }
      },
      "source": [
        "from sklearn import linear_model\n",
        "\n",
        "y= 'taille'\n",
        "reg = linear_model.LinearRegression()\n",
        "reg.fit(df_train.drop(y, axis=1), df_train[y])\n",
        "\n",
        "#Score\n",
        "print(\"Le score est de\",reg.score(df_train.drop(y, axis=1), df_train[y]))\n",
        "print(\"Le score est de\",reg.score(df_test.drop(y, axis=1), df_test[y]))\n",
        "\n",
        "print(df_train.drop(y, axis=1).columns.values)\n",
        "\n",
        "print(\"Linear model weight: \\n\", reg.coef_)\n",
        "print(\"Linear model weight: \\n\", reg.intercept_)"
      ],
      "execution_count": null,
      "outputs": [
        {
          "output_type": "stream",
          "text": [
            "Le score est de 0.8520657656866687\n",
            "Le score est de 0.13531667162788708\n",
            "['Age' 'poids' 'pointure' 'frères' 'soeurs' 'cheveux' 'lunettes' 'genre'\n",
            " 'animal' 'facebook' 'maison']\n",
            "Linear model weight: \n",
            " [ 2.50023057e-01  9.13610479e-02  1.58962593e+00  1.51615836e+00\n",
            "  7.14963823e-01 -8.18969542e-02 -2.49021306e+00 -4.72826766e+00\n",
            "  7.53695501e-01  1.39390248e-03 -2.05917838e+00]\n",
            "Linear model weight: \n",
            " 97.46118652345271\n"
          ],
          "name": "stdout"
        }
      ]
    },
    {
      "cell_type": "markdown",
      "metadata": {
        "id": "r13dOs8HK5ge"
      },
      "source": [
        "# Recursive Features Elimination"
      ]
    },
    {
      "cell_type": "code",
      "metadata": {
        "scrolled": false,
        "id": "dLOmcyuyK5gf",
        "outputId": "8b2c66ca-40c3-4707-e987-aa20b059ef67",
        "colab": {
          "base_uri": "https://localhost:8080/",
          "height": 164
        }
      },
      "source": [
        "import matplotlib.pyplot as plt\n",
        "from sklearn.feature_selection import RFE\n",
        "\n",
        "y= 'facebook'\n",
        "rfe = RFE(estimator=reg, n_features_to_select=1, step=1)\n",
        "rfe.fit(df_train.drop(y, axis=1), df_train[y])\n",
        "ranking = rfe.ranking_\n",
        "#print used co-variables names\n",
        "print(df_train.drop(y, axis=1).columns.values)\n",
        "print(ranking)\n",
        "#print determination coeff\n",
        "print(\"coefficient de détermination Train=\",rfe.score(df_train.drop(y, axis=1), df_train[y]))\n",
        "print(\"coefficient de détermination Test=\",rfe.score(df_test.drop(y, axis=1), df_test[y]))\n",
        "#print trained weights (coefficients) and intercept\n",
        "print(\"model weights:\\n\",rfe.estimator_.coef_)\n",
        "print(\"model intercept:\",rfe.estimator_.intercept_)\n"
      ],
      "execution_count": null,
      "outputs": [
        {
          "output_type": "stream",
          "text": [
            "['Age' 'taille' 'poids' 'pointure' 'frères' 'soeurs' 'cheveux' 'lunettes'\n",
            " 'genre' 'animal' 'maison']\n",
            "[ 9  8 11  7  3  6 10  2  4  1  5]\n",
            "coefficient de détermination Train= 0.08152231333798199\n",
            "coefficient de détermination Test= -0.24775959615505938\n",
            "model weights:\n",
            " [-163.17575758]\n",
            "model intercept: 378.90909090909093\n"
          ],
          "name": "stdout"
        }
      ]
    },
    {
      "cell_type": "markdown",
      "metadata": {
        "id": "cJvOLu8BK5gh"
      },
      "source": [
        "# Lasso & Ridge Path"
      ]
    },
    {
      "cell_type": "code",
      "metadata": {
        "scrolled": true,
        "id": "rOaIutbvK5gi",
        "outputId": "038ade63-9677-4f97-9c37-029e8f08f9db",
        "colab": {
          "base_uri": "https://localhost:8080/",
          "height": 380
        }
      },
      "source": [
        "from sklearn.linear_model import lasso_path\n",
        "from sklearn.linear_model import enet_path\n",
        "from sklearn.linear_model import lasso_path\n",
        "from sklearn.linear_model import enet_path\n",
        "import matplotlib.pyplot as plt\n",
        "from sklearn import preprocessing\n",
        "from itertools import cycle\n",
        "\n",
        "########## calcul du chemin Lasso\n",
        "y='taille'\n",
        "print(y)\n",
        "\n",
        "#############\n",
        "scaler = preprocessing.StandardScaler().fit(df_train.drop(y, axis=1))\n",
        "df_train_X_scaled = scaler.transform(df_train.drop(y, axis=1))\n",
        "df_train_y = df_train[y]\n",
        "\n",
        "# print used co-variables names\n",
        "print(df_train.drop(y, axis=1).columns.values)\n",
        "\n",
        "#Compute paths\n",
        "eps =10e-3 # the smaller is the longer is the path\n",
        "print(\"Computing regularization path using the lasso...\")\n",
        "alphas_lasso, coefs_lasso, _ = lasso_path(df_train_X_scaled, df_train_y)\n",
        "#alphas_lasso, coefs_lasso, _ = enet_path(df_train_X_scaled, df_train_y; ll_ratio=0.01)\n",
        "\n",
        "# Display results\n",
        "plt.figure(1)\n",
        "neg_log_alphas_lasso = -np.log10(alphas_lasso)\n",
        "\n",
        "#print(alphas_lasso)\n",
        "for i in range(0,len(df_train.columns)-1):\n",
        "    plt.plot(coefs_lasso[i], label=i+1)\n",
        "\n",
        "plt.xlabel('lambda iterator')\n",
        "plt.ylabel('coefficients')\n",
        "plt.title('Lasso Path')\n",
        "plt.legend(loc='upper right')\n",
        "plt.axis('tight')\n",
        "\n",
        "\n",
        "\n",
        "\n"
      ],
      "execution_count": null,
      "outputs": [
        {
          "output_type": "stream",
          "text": [
            "taille\n",
            "['Age' 'poids' 'pointure' 'frères' 'soeurs' 'cheveux' 'lunettes' 'genre'\n",
            " 'animal' 'facebook' 'maison']\n",
            "Computing regularization path using the lasso...\n"
          ],
          "name": "stdout"
        },
        {
          "output_type": "execute_result",
          "data": {
            "text/plain": [
              "(-4.95, 103.95, -2.6849541809709265, 6.492526580546374)"
            ]
          },
          "metadata": {
            "tags": []
          },
          "execution_count": 48
        },
        {
          "output_type": "display_data",
          "data": {
            "image/png": "[encoded data removed]",
            "text/plain": [
              "<Figure size 432x288 with 1 Axes>"
            ]
          },
          "metadata": {
            "tags": [],
            "needs_background": "light"
          }
        }
      ]
    },
    {
      "cell_type": "markdown",
      "metadata": {
        "id": "huzkIQZ4K5gm"
      },
      "source": [
        "# AIC/BIC criteria for model selection with Lasso"
      ]
    },
    {
      "cell_type": "code",
      "metadata": {
        "id": "xi6tvJphK5gm",
        "outputId": "35898850-8c1e-4af9-caae-d1e13f0c7b95",
        "colab": {
          "base_uri": "https://localhost:8080/",
          "height": 266
        }
      },
      "source": [
        "from sklearn import linear_model\n",
        "\n",
        "from sklearn import linear_model\n",
        "\n",
        "\n",
        "######### Calcul le chemin Lasso\n",
        "y='facebook'\n",
        "print(\"predict:\",y)\n",
        "#################################\n",
        "scaler = preprocessing.StandardScaler().fit(df_train.drop(y, axis=1))\n",
        "df_train_X_scaled=scaler.transform(df_train.drop(y, axis=1))\n",
        "df_train_y=df_train[y]\n",
        "df_test_X_scaled=scaler.transform(df_test.drop(y, axis=1))\n",
        "df_test_y=df_test[y]\n",
        "#print used co-variables names\n",
        "print(df_train.drop(y, axis=1).columns.values)\n",
        "\n",
        "print(\"AIC\")\n",
        "reg_aic = linear_model.LassoLarsIC(criterion='aic',eps = 10e-6)\n",
        "reg_aic.fit(df_train_X_scaled, df_train_y)\n",
        "print(\"linear model weights:\",reg_aic.coef_)\n",
        "print(\"coefficient de détermination Train=\",reg_aic.score(df_train_X_scaled, df_train_y))\n",
        "print(\"coefficient de détermination Test=\",reg_aic.score(df_test_X_scaled, df_test_y))\n",
        "\n",
        "print(\"\\n\")\n",
        "\n",
        "print(\"BIC\")\n",
        "reg_bic = linear_model.LassoLarsIC(criterion='bic',eps = 10e-6)\n",
        "reg_bic.fit(df_train_X_scaled, df_train_y)\n",
        "print(\"linear model weights:\",reg_bic.coef_)\n",
        "print(\"coefficient de détermination Train=\",reg_bic.score(df_train_X_scaled, df_train_y))\n",
        "print(\"coefficient de détermination Test=\",reg_bic.score(df_test_X_scaled, df_test_y))\n",
        "\n",
        "def plot_ic_criterion(model, name, color):\n",
        "    alpha_ = model.alpha_ + 1e-4\n",
        "    alphas_ = model.alphas_ + 1e-4\n",
        "    criterion_ = model.criterion_\n",
        "    plt.plot(-np.log10(alphas_), criterion_, '--', color=color,\n",
        "             linewidth=3, label='%s criterion' % name)\n",
        "    plt.axvline(-np.log10(alpha_), color=color, linewidth=3,\n",
        "                label='alpha: %s estimate' % name)\n",
        "    plt.xlabel('-log(alpha)')\n",
        "    plt.ylabel('criterion')\n",
        "\n",
        "plt.figure()\n",
        "plot_ic_criterion(reg_aic, 'AIC', 'b')\n",
        "\n",
        "\n",
        "\n",
        "\n"
      ],
      "execution_count": null,
      "outputs": [
        {
          "output_type": "stream",
          "text": [
            "predict: facebook\n"
          ],
          "name": "stdout"
        },
        {
          "output_type": "error",
          "ename": "NameError",
          "evalue": "ignored",
          "traceback": [
            "\u001b[0;31m---------------------------------------------------------------------------\u001b[0m",
            "\u001b[0;31mNameError\u001b[0m                                 Traceback (most recent call last)",
            "\u001b[0;32m<ipython-input-1-a1cd8db82ea5>\u001b[0m in \u001b[0;36m<module>\u001b[0;34m()\u001b[0m\n\u001b[1;32m      8\u001b[0m \u001b[0mprint\u001b[0m\u001b[0;34m(\u001b[0m\u001b[0;34m\"predict:\"\u001b[0m\u001b[0;34m,\u001b[0m\u001b[0my\u001b[0m\u001b[0;34m)\u001b[0m\u001b[0;34m\u001b[0m\u001b[0;34m\u001b[0m\u001b[0m\n\u001b[1;32m      9\u001b[0m \u001b[0;31m#################################\u001b[0m\u001b[0;34m\u001b[0m\u001b[0;34m\u001b[0m\u001b[0;34m\u001b[0m\u001b[0m\n\u001b[0;32m---> 10\u001b[0;31m \u001b[0mscaler\u001b[0m \u001b[0;34m=\u001b[0m \u001b[0mpreprocessing\u001b[0m\u001b[0;34m.\u001b[0m\u001b[0mStandardScaler\u001b[0m\u001b[0;34m(\u001b[0m\u001b[0;34m)\u001b[0m\u001b[0;34m.\u001b[0m\u001b[0mfit\u001b[0m\u001b[0;34m(\u001b[0m\u001b[0mdf_train\u001b[0m\u001b[0;34m.\u001b[0m\u001b[0mdrop\u001b[0m\u001b[0;34m(\u001b[0m\u001b[0my\u001b[0m\u001b[0;34m,\u001b[0m \u001b[0maxis\u001b[0m\u001b[0;34m=\u001b[0m\u001b[0;36m1\u001b[0m\u001b[0;34m)\u001b[0m\u001b[0;34m)\u001b[0m\u001b[0;34m\u001b[0m\u001b[0;34m\u001b[0m\u001b[0m\n\u001b[0m\u001b[1;32m     11\u001b[0m \u001b[0mdf_train_X_scaled\u001b[0m\u001b[0;34m=\u001b[0m\u001b[0mscaler\u001b[0m\u001b[0;34m.\u001b[0m\u001b[0mtransform\u001b[0m\u001b[0;34m(\u001b[0m\u001b[0mdf_train\u001b[0m\u001b[0;34m.\u001b[0m\u001b[0mdrop\u001b[0m\u001b[0;34m(\u001b[0m\u001b[0my\u001b[0m\u001b[0;34m,\u001b[0m \u001b[0maxis\u001b[0m\u001b[0;34m=\u001b[0m\u001b[0;36m1\u001b[0m\u001b[0;34m)\u001b[0m\u001b[0;34m)\u001b[0m\u001b[0;34m\u001b[0m\u001b[0;34m\u001b[0m\u001b[0m\n\u001b[1;32m     12\u001b[0m \u001b[0mdf_train_y\u001b[0m\u001b[0;34m=\u001b[0m\u001b[0mdf_train\u001b[0m\u001b[0;34m[\u001b[0m\u001b[0my\u001b[0m\u001b[0;34m]\u001b[0m\u001b[0;34m\u001b[0m\u001b[0;34m\u001b[0m\u001b[0m\n",
            "\u001b[0;31mNameError\u001b[0m: name 'preprocessing' is not defined"
          ]
        }
      ]
    },
    {
      "cell_type": "markdown",
      "metadata": {
        "id": "WSwTAsY0cLew"
      },
      "source": [
        "# Regression Logistique"
      ]
    },
    {
      "cell_type": "code",
      "metadata": {
        "id": "rtiawuydcQVl",
        "outputId": "a6bf0c91-24e0-4030-d3e7-abdb9ac9a329",
        "colab": {
          "base_uri": "https://localhost:8080/",
          "height": 219
        }
      },
      "source": [
        "from sklearn.linear_model import LogisticRegression\n",
        "from sklearn.metrics import r2_score\n",
        "\n",
        "y='genre'\n",
        "print(\"predict:\",y)\n",
        "\n",
        "logreg = LogisticRegression(solver='lbfgs',max_iter=10000)\n",
        "logreg.fit(df_train.drop(y, axis=1), df_train[y]) \n",
        "\n",
        "#predictions\n",
        "data_Y_predict=logreg.predict(df_test.drop(y, axis=1))\n",
        "print(\"predictions :\",data_Y_predict)\n",
        "print(\"ground truth:\",df_test[y].values)\n",
        "\n",
        "#print determination coeff\n",
        "print(\"Accuracy Train=\",logreg.score(df_train.drop(y, axis=1), df_train[y]))\n",
        "print(\"Accuracy Test=\",logreg.score(df_test.drop(y, axis=1), df_test[y]))\n",
        "\n",
        "#print used co-variables names\n",
        "print(df_train.drop(y, axis=1).columns.values)\n",
        "\n",
        "#print trained weights (coefficients) and intercept\n",
        "print(\"linear model weights:\\n\",logreg.coef_)\n",
        "print(\"linear model intercept:\",logreg.intercept_)\n",
        "\n"
      ],
      "execution_count": null,
      "outputs": [
        {
          "output_type": "stream",
          "text": [
            "predict: genre\n",
            "predictions : [1 1 0 0 0 0 1 1 0]\n",
            "ground truth: [0 1 1 1 0 1 1 1 0]\n",
            "Accuracy Train= 1.0\n",
            "Accuracy Test= 0.5555555555555556\n",
            "['Age' 'taille' 'poids' 'pointure' 'frères' 'soeurs' 'cheveux' 'lunettes'\n",
            " 'animal' 'facebook' 'maison']\n",
            "linear model weights:\n",
            " [[-0.0600532   0.03943595 -0.26895286 -0.14236313  0.00486234 -0.01092503\n",
            "   0.47519235 -0.00104917  0.03747855  0.00965358  0.00509427]]\n",
            "linear model intercept: [0.00141646]\n"
          ],
          "name": "stdout"
        }
      ]
    },
    {
      "cell_type": "markdown",
      "metadata": {
        "id": "idiliN-JdZNL"
      },
      "source": [
        "# Leave-p-out cross validation with Logistic Regression"
      ]
    },
    {
      "cell_type": "code",
      "metadata": {
        "id": "uSpNeH6_dfky"
      },
      "source": [
        "from sklearn.model_selection import LeavePOut\n",
        "\n",
        "#validation croisée de p-out et on laisse p = "
      ],
      "execution_count": null,
      "outputs": []
    },
    {
      "cell_type": "markdown",
      "metadata": {
        "id": "b7HwJarUGc7d"
      },
      "source": [
        "# LeavePOut KNN\n"
      ]
    },
    {
      "cell_type": "code",
      "metadata": {
        "id": "12-ZhCCIGljo",
        "outputId": "a1c1e4ce-03f6-4e7d-b877-b5109a5776df",
        "colab": {
          "base_uri": "https://localhost:8080/",
          "height": 51
        }
      },
      "source": [
        "from sklearn.model_selection import cross_val_score\n",
        "from sklearn.model_selection import LeavePOut\n",
        "from sklearn.neighbors import KNeighborsClassifier\n",
        "\n",
        "y='animal'\n",
        "print(\"predict:\",y)\n",
        "\n",
        "data_X=data_frame.drop(y, axis=1)\n",
        "data_Y=data_frame[y]\n",
        "\n",
        "cv = LeavePOut(1)\n",
        "scores=cross_val_score(logreg,data_X,data_Y,scoring=\"accuracy\",cv=cv)\n",
        "avg_accuracy=np.average(scores)\n",
        "std_accuracy=np.std(scores)\n",
        "constant_predictor_sex=max(np.average(data_Y),np.average(1-data_Y))\n",
        "print(\"cross-validation accuracy=\",avg_accuracy,\"±\",std_accuracy,\"prior=\",constant_predictor_sex)\n"
      ],
      "execution_count": null,
      "outputs": [
        {
          "output_type": "stream",
          "text": [
            "predict: animal\n",
            "cross-validation accuracy= 0.45714285714285713 ± 0.49815987926179134 prior= 0.6\n"
          ],
          "name": "stdout"
        }
      ]
    },
    {
      "cell_type": "markdown",
      "metadata": {
        "id": "jW6PRBsVGmjL"
      },
      "source": [
        "# Model Selection for animals prediction (by cross-validation and grid search)"
      ]
    },
    {
      "cell_type": "code",
      "metadata": {
        "id": "yvdupgNsGsgT",
        "outputId": "41a0a10d-79b2-49b1-ae83-e41cc701a49f",
        "colab": {
          "base_uri": "https://localhost:8080/",
          "height": 306
        }
      },
      "source": [
        "from sklearn.svm import LinearSVC\n",
        "from sklearn import svm\n",
        "from sklearn.model_selection import GridSearchCV\n",
        "from sklearn.linear_model import RidgeClassifier\n",
        "from sklearn.ensemble import RandomForestClassifier\n",
        "from sklearn.neural_network import MLPClassifier\n",
        "\n",
        "y='genre'\n",
        "print(\"predict:\",y)\n",
        "\n",
        "data_X=data_frame.drop(y, axis=1)\n",
        "data_Y=data_frame[y]\n",
        "\n",
        "cv = LeavePOut(1)\n",
        "\n",
        "#MLP \n",
        "#grid_MLP= GridSearchCV(estimator=MLPClassifier(max_iter=1000), param_grid={'hidden_layer_sizes':np.arange(10, 15)}, scoring=\"accuracy\", cv=cv)\n",
        "#grid_MLP.fit(data_X,data_Y)\n",
        "#print(\"accuracy of best MLP model:\",grid_MLP.best_score_)\n",
        "#print(\"params of best MLP model:\",grid_MLP.best_params_)\n",
        "\n",
        "print(\"\\n\")\n",
        "# KNN \n",
        "grid_knn = GridSearchCV(estimator=KNeighborsClassifier(algorithm='brute'), param_grid={'n_neighbors':[1, 2, 3, 4, 5]}, scoring=\"accuracy\", cv=cv)\n",
        "grid_knn.fit(data_X,data_Y)\n",
        "print(\"accuracy of best KNN model:\",grid_knn.best_score_)\n",
        "print(\"params of best KNN model:\",grid_knn.best_params_)\n",
        "\n",
        "print(\"\\n\")\n",
        "# Ridge Classifier \n",
        "grid_ridge = GridSearchCV(estimator=RidgeClassifier(), param_grid={'alpha':[0.001, 0.01, 0.1, 1.0]}, scoring=\"accuracy\", cv=cv)\n",
        "grid_ridge.fit(data_X,data_Y)\n",
        "print(\"accuracy of best RIDGE model:\",grid_ridge.best_score_)\n",
        "print(\"params of best RIDGE model:\",grid_ridge.best_params_)\n",
        "\n",
        "print(\"\\n\")\n",
        "# Random Forest  \n",
        "grid_RF = GridSearchCV(estimator=RandomForestClassifier(), param_grid={'n_estimators':[1, 10, 100], 'max_depth':[2, 3, 4, 5]}, scoring=\"accuracy\", cv=cv)\n",
        "grid_RF.fit(data_X,data_Y)\n",
        "print(\"accuracy of best RF model:\",grid_RF.best_score_)\n",
        "print(\"params of best RF model:\",grid_RF.best_params_)\n",
        "\n",
        "print(\"\\n\")\n",
        "# SVM (C-regularized)\n",
        "#grid_svm = GridSearchCV(estimator=svm.SVC(gamma=0.001), param_grid={'kernel':('linear', 'rbf'), 'C':[1, 10, 100]}, scoring=\"accuracy\", cv=cv)\n",
        "grid_svm = GridSearchCV(estimator=svm.SVC(gamma=0.001,kernel='linear'), param_grid={'C':[1, 10, 100]}, scoring=\"accuracy\", cv=cv)\n",
        "grid_svm.fit(data_X,data_Y)\n",
        "print(\"accuracy of best SVM model:\",grid_svm.best_score_)\n",
        "print(\"params of best SVM model:\",grid_svm.best_params_)\n",
        "\n"
      ],
      "execution_count": null,
      "outputs": [
        {
          "output_type": "stream",
          "text": [
            "predict: genre\n",
            "\n",
            "\n",
            "accuracy of best KNN model: 0.5714285714285714\n",
            "params of best KNN model: {'n_neighbors': 1}\n",
            "\n",
            "\n",
            "accuracy of best RIDGE model: 0.8857142857142857\n",
            "params of best RIDGE model: {'alpha': 0.001}\n",
            "\n",
            "\n",
            "accuracy of best RF model: 0.8857142857142857\n",
            "params of best RF model: {'max_depth': 2, 'n_estimators': 100}\n",
            "\n",
            "\n",
            "accuracy of best SVM model: 0.8285714285714286\n",
            "params of best SVM model: {'C': 1}\n"
          ],
          "name": "stdout"
        }
      ]
    },
    {
      "cell_type": "markdown",
      "metadata": {
        "id": "NWh9StQEG3aw"
      },
      "source": [
        "# Ablation analysis of Best model (interpretability)"
      ]
    },
    {
      "cell_type": "code",
      "metadata": {
        "id": "TuxTgKfmG662",
        "outputId": "97fc0fcd-2c48-494c-8203-c169e2892dbb",
        "colab": {
          "base_uri": "https://localhost:8080/",
          "height": 323
        }
      },
      "source": [
        "from sklearn.inspection import permutation_importance\n",
        "\n",
        "best_estimator=grid_ridge.best_estimator_\n",
        "\n",
        "scores=cross_val_score(best_estimator,data_X,data_Y,scoring=\"accuracy\",cv=cv)\n",
        "score_with_all_variables=np.average(scores)\n",
        "print(\"With all variables \",\" accuracy=\",np.average(scores))\n",
        "\n",
        "#remove each input variable iteratively, train and predict\n",
        "for variable in data_X.columns:\n",
        "    # Train best estimator on the whole training set\n",
        "    data_X_abblation=data_X.drop(variable, axis=1)\n",
        "    #best_best_estimator.fit(data_X_abblation,data_Y)\n",
        "    scores=cross_val_score(best_estimator,data_X_abblation,data_Y,scoring=\"accuracy\",cv=cv)\n",
        "    print(\"Without \",variable,\" accuracy loss=\",score_with_all_variables-np.average(scores))\n",
        "    \n",
        "print(\"\\n\")\n",
        "\n",
        "r = permutation_importance(best_estimator, data_X, data_Y,n_repeats=30,random_state=0)\n",
        "#print used co-variables names\n",
        "print(data_X.columns.values)\n",
        "print(r.importances_mean)"
      ],
      "execution_count": null,
      "outputs": [
        {
          "output_type": "stream",
          "text": [
            "With all variables   accuracy= 0.8857142857142857\n",
            "Without  Age  accuracy loss= 0.02857142857142858\n",
            "Without  taille  accuracy loss= 0.0\n",
            "Without  poids  accuracy loss= 0.02857142857142858\n",
            "Without  pointure  accuracy loss= 0.08571428571428563\n",
            "Without  frères  accuracy loss= 0.02857142857142858\n",
            "Without  soeurs  accuracy loss= 0.08571428571428563\n",
            "Without  cheveux  accuracy loss= 0.02857142857142858\n",
            "Without  lunettes  accuracy loss= 0.02857142857142858\n",
            "Without  animal  accuracy loss= 0.02857142857142858\n",
            "Without  facebook  accuracy loss= 0.0\n",
            "Without  maison  accuracy loss= 0.0\n",
            "\n",
            "\n",
            "['Age' 'taille' 'poids' 'pointure' 'frères' 'soeurs' 'cheveux' 'lunettes'\n",
            " 'animal' 'facebook' 'maison']\n",
            "[0.0352381  0.08       0.03047619 0.11619048 0.00857143 0.07428571\n",
            " 0.23238095 0.00857143 0.01142857 0.00095238 0.02285714]\n"
          ],
          "name": "stdout"
        }
      ]
    }
  ]
}